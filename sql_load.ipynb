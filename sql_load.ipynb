{
 "cells": [
  {
   "cell_type": "code",
   "execution_count": 41,
   "metadata": {},
   "outputs": [],
   "source": [
    "import pandas as pd\n",
    "from sqlalchemy import create_engine"
   ]
  },
  {
   "cell_type": "code",
   "execution_count": 42,
   "metadata": {},
   "outputs": [
    {
     "data": {
      "text/html": [
       "<div>\n",
       "<style scoped>\n",
       "    .dataframe tbody tr th:only-of-type {\n",
       "        vertical-align: middle;\n",
       "    }\n",
       "\n",
       "    .dataframe tbody tr th {\n",
       "        vertical-align: top;\n",
       "    }\n",
       "\n",
       "    .dataframe thead th {\n",
       "        text-align: right;\n",
       "    }\n",
       "</style>\n",
       "<table border=\"1\" class=\"dataframe\">\n",
       "  <thead>\n",
       "    <tr style=\"text-align: right;\">\n",
       "      <th></th>\n",
       "      <th>Unnamed: 0</th>\n",
       "      <th>president</th>\n",
       "      <th>party</th>\n",
       "      <th>annual_gnp_growth_pct</th>\n",
       "      <th>annual_debt_increase_pct</th>\n",
       "      <th>ufo_sightings</th>\n",
       "      <th>daily_cig_sale_per_adult</th>\n",
       "    </tr>\n",
       "  </thead>\n",
       "  <tbody>\n",
       "    <tr>\n",
       "      <th>0</th>\n",
       "      <td>0</td>\n",
       "      <td>Harry S. Truman</td>\n",
       "      <td>Democratic</td>\n",
       "      <td>-1.53</td>\n",
       "      <td>0.2</td>\n",
       "      <td>15</td>\n",
       "      <td>9.3</td>\n",
       "    </tr>\n",
       "    <tr>\n",
       "      <th>1</th>\n",
       "      <td>1</td>\n",
       "      <td>Harry S. Truman</td>\n",
       "      <td>Democratic</td>\n",
       "      <td>13.37</td>\n",
       "      <td>1.8</td>\n",
       "      <td>21</td>\n",
       "      <td>9.3</td>\n",
       "    </tr>\n",
       "    <tr>\n",
       "      <th>2</th>\n",
       "      <td>2</td>\n",
       "      <td>Harry S. Truman</td>\n",
       "      <td>Democratic</td>\n",
       "      <td>5.47</td>\n",
       "      <td>-0.8</td>\n",
       "      <td>13</td>\n",
       "      <td>9.8</td>\n",
       "    </tr>\n",
       "    <tr>\n",
       "      <th>3</th>\n",
       "      <td>3</td>\n",
       "      <td>Harry S. Truman</td>\n",
       "      <td>Democratic</td>\n",
       "      <td>5.37</td>\n",
       "      <td>1.5</td>\n",
       "      <td>37</td>\n",
       "      <td>10.0</td>\n",
       "    </tr>\n",
       "    <tr>\n",
       "      <th>4</th>\n",
       "      <td>4</td>\n",
       "      <td>Dwight D. Eisenhower</td>\n",
       "      <td>Republican</td>\n",
       "      <td>0.52</td>\n",
       "      <td>2.7</td>\n",
       "      <td>26</td>\n",
       "      <td>9.7</td>\n",
       "    </tr>\n",
       "  </tbody>\n",
       "</table>\n",
       "</div>"
      ],
      "text/plain": [
       "   Unnamed: 0             president       party  annual_gnp_growth_pct  \\\n",
       "0           0       Harry S. Truman  Democratic                  -1.53   \n",
       "1           1       Harry S. Truman  Democratic                  13.37   \n",
       "2           2       Harry S. Truman  Democratic                   5.47   \n",
       "3           3       Harry S. Truman  Democratic                   5.37   \n",
       "4           4  Dwight D. Eisenhower  Republican                   0.52   \n",
       "\n",
       "   annual_debt_increase_pct  ufo_sightings  daily_cig_sale_per_adult  \n",
       "0                       0.2             15                       9.3  \n",
       "1                       1.8             21                       9.3  \n",
       "2                      -0.8             13                       9.8  \n",
       "3                       1.5             37                      10.0  \n",
       "4                       2.7             26                       9.7  "
      ]
     },
     "execution_count": 42,
     "metadata": {},
     "output_type": "execute_result"
    }
   ],
   "source": [
    "premise_file = \"pres_clean.csv\"\n",
    "premise_df = pd.read_csv(premise_file)\n",
    "premise_df.head()"
   ]
  },
  {
   "cell_type": "code",
   "execution_count": 34,
   "metadata": {},
   "outputs": [
    {
     "data": {
      "text/html": [
       "<div>\n",
       "<style scoped>\n",
       "    .dataframe tbody tr th:only-of-type {\n",
       "        vertical-align: middle;\n",
       "    }\n",
       "\n",
       "    .dataframe tbody tr th {\n",
       "        vertical-align: top;\n",
       "    }\n",
       "\n",
       "    .dataframe thead th {\n",
       "        text-align: right;\n",
       "    }\n",
       "</style>\n",
       "<table border=\"1\" class=\"dataframe\">\n",
       "  <thead>\n",
       "    <tr style=\"text-align: right;\">\n",
       "      <th></th>\n",
       "      <th>president</th>\n",
       "      <th>annual_gnp_growth_pct</th>\n",
       "      <th>annual_debt_increase_pct</th>\n",
       "      <th>ufo_sightings</th>\n",
       "      <th>daily_cig_sale_per_adult</th>\n",
       "    </tr>\n",
       "    <tr>\n",
       "      <th>id</th>\n",
       "      <th></th>\n",
       "      <th></th>\n",
       "      <th></th>\n",
       "      <th></th>\n",
       "      <th></th>\n",
       "    </tr>\n",
       "  </thead>\n",
       "  <tbody>\n",
       "    <tr>\n",
       "      <th>0</th>\n",
       "      <td>Harry S. Truman</td>\n",
       "      <td>-1.53</td>\n",
       "      <td>0.2</td>\n",
       "      <td>15</td>\n",
       "      <td>9.3</td>\n",
       "    </tr>\n",
       "    <tr>\n",
       "      <th>1</th>\n",
       "      <td>Harry S. Truman</td>\n",
       "      <td>13.37</td>\n",
       "      <td>1.8</td>\n",
       "      <td>21</td>\n",
       "      <td>9.3</td>\n",
       "    </tr>\n",
       "    <tr>\n",
       "      <th>2</th>\n",
       "      <td>Harry S. Truman</td>\n",
       "      <td>5.47</td>\n",
       "      <td>-0.8</td>\n",
       "      <td>13</td>\n",
       "      <td>9.8</td>\n",
       "    </tr>\n",
       "    <tr>\n",
       "      <th>3</th>\n",
       "      <td>Harry S. Truman</td>\n",
       "      <td>5.37</td>\n",
       "      <td>1.5</td>\n",
       "      <td>37</td>\n",
       "      <td>10.0</td>\n",
       "    </tr>\n",
       "    <tr>\n",
       "      <th>4</th>\n",
       "      <td>Dwight D. Eisenhower</td>\n",
       "      <td>0.52</td>\n",
       "      <td>2.7</td>\n",
       "      <td>26</td>\n",
       "      <td>9.7</td>\n",
       "    </tr>\n",
       "  </tbody>\n",
       "</table>\n",
       "</div>"
      ],
      "text/plain": [
       "               president  annual_gnp_growth_pct  annual_debt_increase_pct  \\\n",
       "id                                                                          \n",
       "0        Harry S. Truman                  -1.53                       0.2   \n",
       "1        Harry S. Truman                  13.37                       1.8   \n",
       "2        Harry S. Truman                   5.47                      -0.8   \n",
       "3        Harry S. Truman                   5.37                       1.5   \n",
       "4   Dwight D. Eisenhower                   0.52                       2.7   \n",
       "\n",
       "    ufo_sightings  daily_cig_sale_per_adult  \n",
       "id                                           \n",
       "0              15                       9.3  \n",
       "1              21                       9.3  \n",
       "2              13                       9.8  \n",
       "3              37                      10.0  \n",
       "4              26                       9.7  "
      ]
     },
     "execution_count": 34,
     "metadata": {},
     "output_type": "execute_result"
    }
   ],
   "source": [
    "premise_df1 = premise_df[[\"president\",\"annual_gnp_growth_pct\",\"annual_debt_increase_pct\",\"ufo_sightings\",\"daily_cig_sale_per_adult\"]]\n",
    "premise_df1.index.names = ['id']\n",
    "premise_df1.head()"
   ]
  },
  {
   "cell_type": "code",
   "execution_count": 35,
   "metadata": {},
   "outputs": [],
   "source": [
    "connection_string = \"root:0318119@localhost/presidents_data\"\n",
    "engine = create_engine(f'mysql://{connection_string}')"
   ]
  },
  {
   "cell_type": "code",
   "execution_count": 36,
   "metadata": {},
   "outputs": [
    {
     "data": {
      "text/plain": [
       "['pres_agg', 'pres_data']"
      ]
     },
     "execution_count": 36,
     "metadata": {},
     "output_type": "execute_result"
    }
   ],
   "source": [
    "engine.table_names()"
   ]
  },
  {
   "cell_type": "code",
   "execution_count": 38,
   "metadata": {},
   "outputs": [],
   "source": [
    "premise_df1.to_sql(name='pres_data', con=engine, if_exists='append', index=True)"
   ]
  },
  {
   "cell_type": "code",
   "execution_count": null,
   "metadata": {},
   "outputs": [],
   "source": []
  }
 ],
 "metadata": {
  "kernelspec": {
   "display_name": "Python [conda env:PythonData]",
   "language": "python",
   "name": "conda-env-PythonData-py"
  },
  "language_info": {
   "codemirror_mode": {
    "name": "ipython",
    "version": 3
   },
   "file_extension": ".py",
   "mimetype": "text/x-python",
   "name": "python",
   "nbconvert_exporter": "python",
   "pygments_lexer": "ipython3",
   "version": "3.6.5"
  }
 },
 "nbformat": 4,
 "nbformat_minor": 2
}
